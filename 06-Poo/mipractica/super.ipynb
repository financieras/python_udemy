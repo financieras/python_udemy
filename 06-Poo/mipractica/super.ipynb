{
  "nbformat": 4,
  "nbformat_minor": 0,
  "metadata": {
    "colab": {
      "provenance": [],
      "authorship_tag": "ABX9TyMcTSDKwdyPUNH/x8RKr0Dq",
      "include_colab_link": true
    },
    "kernelspec": {
      "name": "python3",
      "display_name": "Python 3"
    },
    "language_info": {
      "name": "python"
    }
  },
  "cells": [
    {
      "cell_type": "markdown",
      "metadata": {
        "id": "view-in-github",
        "colab_type": "text"
      },
      "source": [
        "<a href=\"https://colab.research.google.com/github/financieras/python_udemy/blob/main/06-Poo/mipractica/super.ipynb\" target=\"_parent\"><img src=\"https://colab.research.google.com/assets/colab-badge.svg\" alt=\"Open In Colab\"/></a>"
      ]
    },
    {
      "cell_type": "code",
      "execution_count": 16,
      "metadata": {
        "colab": {
          "base_uri": "https://localhost:8080/"
        },
        "id": "Hxbwy70COe06",
        "outputId": "7b2a9614-95ed-42b4-d3be-300860222e31"
      },
      "outputs": [
        {
          "output_type": "stream",
          "name": "stdout",
          "text": [
            "\n",
            "        ÁREA Y PERÍMETRO DE FIGURAS GEOMÉTRICAS\n",
            "\n",
            "        1 - Rectángulo\n",
            "        2 - Círculo\n",
            "        3 - Salir\n",
            "        Ingrese una opción: 1\n",
            "Ingrese la Base: 3\n",
            "Ingrese la Altura: 4\n",
            "rectángulo[base: 3.0, altura: 4.0]\n",
            "Área: 12.0\n",
            "Perímetro: 14.0\n",
            "\n",
            "        ÁREA Y PERÍMETRO DE FIGURAS GEOMÉTRICAS\n",
            "\n",
            "        1 - Rectángulo\n",
            "        2 - Círculo\n",
            "        3 - Salir\n",
            "        Ingrese una opción: 2\n",
            "Ingrese el Radio: 5\n",
            "círculo[radio: 5.0]\n",
            "Área: 78.53981633974483\n",
            "Perímetro: 31.41592653589793\n",
            "\n",
            "        ÁREA Y PERÍMETRO DE FIGURAS GEOMÉTRICAS\n",
            "\n",
            "        1 - Rectángulo\n",
            "        2 - Círculo\n",
            "        3 - Salir\n",
            "        Ingrese una opción: 4\n",
            "Opción incorrecta\n",
            "\n",
            "        ÁREA Y PERÍMETRO DE FIGURAS GEOMÉTRICAS\n",
            "\n",
            "        1 - Rectángulo\n",
            "        2 - Círculo\n",
            "        3 - Salir\n",
            "        Ingrese una opción: 3\n",
            "Cerrando sistema\n"
          ]
        }
      ],
      "source": [
        "from math import pi\n",
        "\n",
        "class Figura:\n",
        "    def __init__(self, nombre):\n",
        "        self.nombre = nombre\n",
        "    def area(self):\n",
        "        pass\n",
        "    def perimetro(self):\n",
        "        pass\n",
        "\n",
        "class Rectangulo(Figura):\n",
        "    def __init__(self, nombre, base, altura):\n",
        "        super().__init__(nombre)\n",
        "        self.base = base\n",
        "        self.altura = altura\n",
        "    @property\n",
        "    def area(self):\n",
        "        return self.base * self.altura\n",
        "    @property\n",
        "    def perimetro(self):\n",
        "        return 2 * (self.base + self.altura)\n",
        "    def __str__(self):\n",
        "        return f'{self.nombre}[base: {self.base}, altura: {self.altura}]'\n",
        "\n",
        "class Circulo(Figura):\n",
        "    def __init__(self, nombre, radio):\n",
        "        super().__init__(nombre)\n",
        "        self.radio = radio\n",
        "    @property\n",
        "    def area(self):\n",
        "        return pi * self.radio ** 2\n",
        "    @property\n",
        "    def perimetro(self):\n",
        "        return 2 * pi * self.radio\n",
        "    def __str__(self):\n",
        "        return f'{self.nombre}[radio: {self.radio}]'\n",
        "\n",
        "def probar_figura(figura):\n",
        "    print(figura)\n",
        "    print(f'Área: {figura.area}')               # gracias a que hemos puesto @property podemos evitar poner paréntesis en figura.area()\n",
        "    print(f'Perímetro: {figura.perimetro}')     # gracias a que hemos puesto @property podemos evitar poner paréntesis en figura.perimetro()\n",
        "\n",
        "if __name__ == '__main__':\n",
        "    while True:\n",
        "        menu = \"\"\"\n",
        "        ÁREA Y PERÍMETRO DE FIGURAS GEOMÉTRICAS\n",
        "\n",
        "        1 - Rectángulo\n",
        "        2 - Círculo\n",
        "        3 - Salir\n",
        "        Ingrese una opción: \"\"\"\n",
        "        \n",
        "        opcion = input(menu)\n",
        "\n",
        "        if opcion == '1':\n",
        "            base = float(input(\"Ingrese la Base: \"))\n",
        "            altura = float(input(\"Ingrese la Altura: \"))\n",
        "            r = Rectangulo(\"rectángulo\", base, altura)\n",
        "            probar_figura(r)\n",
        "        elif opcion == '2':\n",
        "            radio = float(input(\"Ingrese el Radio: \"))\n",
        "            c = Circulo(\"círculo\", radio)\n",
        "            probar_figura(c)\n",
        "        elif opcion == '3':\n",
        "            print(\"Cerrando sistema\")\n",
        "            break\n",
        "        else:\n",
        "            print('Opción incorrecta')"
      ]
    }
  ]
}