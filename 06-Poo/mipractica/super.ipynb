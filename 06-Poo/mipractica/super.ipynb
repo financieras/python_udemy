{
  "nbformat": 4,
  "nbformat_minor": 0,
  "metadata": {
    "colab": {
      "provenance": [],
      "authorship_tag": "ABX9TyOg1vuCvddMHVdjXpXvDyeW",
      "include_colab_link": true
    },
    "kernelspec": {
      "name": "python3",
      "display_name": "Python 3"
    },
    "language_info": {
      "name": "python"
    }
  },
  "cells": [
    {
      "cell_type": "markdown",
      "metadata": {
        "id": "view-in-github",
        "colab_type": "text"
      },
      "source": [
        "<a href=\"https://colab.research.google.com/github/financieras/python_udemy/blob/main/06-Poo/mipractica/super.ipynb\" target=\"_parent\"><img src=\"https://colab.research.google.com/assets/colab-badge.svg\" alt=\"Open In Colab\"/></a>"
      ]
    },
    {
      "cell_type": "code",
      "execution_count": 9,
      "metadata": {
        "colab": {
          "base_uri": "https://localhost:8080/"
        },
        "id": "Hxbwy70COe06",
        "outputId": "7a3c13a3-61aa-41b2-b391-5a4885c60ccd"
      },
      "outputs": [
        {
          "output_type": "stream",
          "name": "stdout",
          "text": [
            "200\n",
            "60\n",
            "rectangulo\n",
            "rectangulo[base: 10, altura: 20]\n",
            "\n",
            "31415.926535897932\n",
            "628.3185307179587\n",
            "circulo\n",
            "circulo[radio: 100]\n"
          ]
        }
      ],
      "source": [
        "from math import pi\n",
        "\n",
        "class Figura:\n",
        "    def __init__(self, nombre):\n",
        "        self.nombre = nombre\n",
        "    def area(self):\n",
        "        pass\n",
        "    def perimetro(self):\n",
        "        pass\n",
        "    def probar_figura(self):\n",
        "        pass\n",
        "\n",
        "class Rectangulo(Figura):\n",
        "    def __init__(self, nombre, base, altura):\n",
        "        super().__init__(nombre)\n",
        "        #self.nombre = __class__.__name__\n",
        "        self.base = base\n",
        "        self.altura = altura\n",
        "    def area(self):\n",
        "        return self.base * self.altura\n",
        "    @property\n",
        "    def perimetro(self):\n",
        "        return 2 * (self.base + self.altura)\n",
        "    def __str__(self):\n",
        "        return f'{self.nombre}[base: {self.base}, altura: {self.altura}]'\n",
        "\n",
        "class Circulo(Figura):\n",
        "    def __init__(self, nombre, radio):\n",
        "        super().__init__(nombre)\n",
        "        self.radio = radio\n",
        "    def area(self):\n",
        "        return pi * self.radio ** 2\n",
        "    def perimetro(self):\n",
        "        return 2 * pi * self.radio\n",
        "    def __str__(self):\n",
        "        return f'{self.nombre}[radio: {self.radio}]'\n",
        "\n",
        "if __name__ == '__main__':\n",
        "    f = Figura(\"figurin\")\n",
        "    r = Rectangulo('rectangulo', 10, 20)\n",
        "    print(r.area())\n",
        "    print(r.perimetro)       # evitamos poner los paréntesis en r.perimetro() al haber usaro @property\n",
        "    print(r.nombre)\n",
        "    print(r)\n",
        "    print()\n",
        "    c = Circulo('circulo', 100)\n",
        "    print(c.area())\n",
        "    print(c.perimetro())\n",
        "    print(c.nombre)\n",
        "    print(c)"
      ]
    }
  ]
}